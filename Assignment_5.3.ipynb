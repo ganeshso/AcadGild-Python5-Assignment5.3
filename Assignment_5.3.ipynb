{
 "cells": [
  {
   "cell_type": "code",
   "execution_count": 2,
   "metadata": {},
   "outputs": [],
   "source": [
    "import numpy as np\n",
    "import pandas as pd"
   ]
  },
  {
   "cell_type": "markdown",
   "metadata": {},
   "source": [
    "##1. Create a sample JSON object from titanic dataset\n",
    "\n",
    "https://raw.githubusercontent.com/pcsanwald/kaggle-titanic/master/train.csv"
   ]
  },
  {
   "cell_type": "code",
   "execution_count": 31,
   "metadata": {},
   "outputs": [
    {
     "data": {
      "text/plain": [
       "pandas.core.frame.DataFrame"
      ]
     },
     "execution_count": 31,
     "metadata": {},
     "output_type": "execute_result"
    }
   ],
   "source": [
    "csvObj = pd.read_csv('https://raw.githubusercontent.com/pcsanwald/kaggle-titanic/master/train.csv')\n",
    "csvObj.head()\n",
    "type(csvObj)\n"
   ]
  },
  {
   "cell_type": "code",
   "execution_count": 12,
   "metadata": {},
   "outputs": [
    {
     "data": {
      "text/plain": [
       "str"
      ]
     },
     "execution_count": 12,
     "metadata": {},
     "output_type": "execute_result"
    }
   ],
   "source": [
    "\n",
    "jsonObj = csvObj.head(20).to_json()\n",
    "jsonObj\n",
    "type(jsonObj)"
   ]
  },
  {
   "cell_type": "markdown",
   "metadata": {},
   "source": [
    "# Read the JSON object and convert it to pandas data frame"
   ]
  },
  {
   "cell_type": "code",
   "execution_count": 10,
   "metadata": {},
   "outputs": [
    {
     "data": {
      "text/html": [
       "<div>\n",
       "<style scoped>\n",
       "    .dataframe tbody tr th:only-of-type {\n",
       "        vertical-align: middle;\n",
       "    }\n",
       "\n",
       "    .dataframe tbody tr th {\n",
       "        vertical-align: top;\n",
       "    }\n",
       "\n",
       "    .dataframe thead th {\n",
       "        text-align: right;\n",
       "    }\n",
       "</style>\n",
       "<table border=\"1\" class=\"dataframe\">\n",
       "  <thead>\n",
       "    <tr style=\"text-align: right;\">\n",
       "      <th></th>\n",
       "      <th>age</th>\n",
       "      <th>cabin</th>\n",
       "      <th>embarked</th>\n",
       "      <th>fare</th>\n",
       "      <th>name</th>\n",
       "      <th>parch</th>\n",
       "      <th>pclass</th>\n",
       "      <th>sex</th>\n",
       "      <th>sibsp</th>\n",
       "      <th>survived</th>\n",
       "      <th>ticket</th>\n",
       "    </tr>\n",
       "  </thead>\n",
       "  <tbody>\n",
       "    <tr>\n",
       "      <th>0</th>\n",
       "      <td>22.0</td>\n",
       "      <td>None</td>\n",
       "      <td>S</td>\n",
       "      <td>7.2500</td>\n",
       "      <td>Braund, Mr. Owen Harris</td>\n",
       "      <td>0</td>\n",
       "      <td>3</td>\n",
       "      <td>male</td>\n",
       "      <td>1</td>\n",
       "      <td>0</td>\n",
       "      <td>A/5 21171</td>\n",
       "    </tr>\n",
       "    <tr>\n",
       "      <th>1</th>\n",
       "      <td>38.0</td>\n",
       "      <td>C85</td>\n",
       "      <td>C</td>\n",
       "      <td>71.2833</td>\n",
       "      <td>Cumings, Mrs. John Bradley (Florence Briggs Th...</td>\n",
       "      <td>0</td>\n",
       "      <td>1</td>\n",
       "      <td>female</td>\n",
       "      <td>1</td>\n",
       "      <td>1</td>\n",
       "      <td>PC 17599</td>\n",
       "    </tr>\n",
       "    <tr>\n",
       "      <th>10</th>\n",
       "      <td>4.0</td>\n",
       "      <td>G6</td>\n",
       "      <td>S</td>\n",
       "      <td>16.7000</td>\n",
       "      <td>Sandstrom, Miss. Marguerite Rut</td>\n",
       "      <td>1</td>\n",
       "      <td>3</td>\n",
       "      <td>female</td>\n",
       "      <td>1</td>\n",
       "      <td>1</td>\n",
       "      <td>PP 9549</td>\n",
       "    </tr>\n",
       "    <tr>\n",
       "      <th>11</th>\n",
       "      <td>58.0</td>\n",
       "      <td>C103</td>\n",
       "      <td>S</td>\n",
       "      <td>26.5500</td>\n",
       "      <td>Bonnell, Miss. Elizabeth</td>\n",
       "      <td>0</td>\n",
       "      <td>1</td>\n",
       "      <td>female</td>\n",
       "      <td>0</td>\n",
       "      <td>1</td>\n",
       "      <td>113783</td>\n",
       "    </tr>\n",
       "    <tr>\n",
       "      <th>12</th>\n",
       "      <td>20.0</td>\n",
       "      <td>None</td>\n",
       "      <td>S</td>\n",
       "      <td>8.0500</td>\n",
       "      <td>Saundercock, Mr. William Henry</td>\n",
       "      <td>0</td>\n",
       "      <td>3</td>\n",
       "      <td>male</td>\n",
       "      <td>0</td>\n",
       "      <td>0</td>\n",
       "      <td>A/5. 2151</td>\n",
       "    </tr>\n",
       "  </tbody>\n",
       "</table>\n",
       "</div>"
      ],
      "text/plain": [
       "     age cabin embarked     fare  \\\n",
       "0   22.0  None        S   7.2500   \n",
       "1   38.0   C85        C  71.2833   \n",
       "10   4.0    G6        S  16.7000   \n",
       "11  58.0  C103        S  26.5500   \n",
       "12  20.0  None        S   8.0500   \n",
       "\n",
       "                                                 name  parch  pclass     sex  \\\n",
       "0                             Braund, Mr. Owen Harris      0       3    male   \n",
       "1   Cumings, Mrs. John Bradley (Florence Briggs Th...      0       1  female   \n",
       "10                    Sandstrom, Miss. Marguerite Rut      1       3  female   \n",
       "11                           Bonnell, Miss. Elizabeth      0       1  female   \n",
       "12                     Saundercock, Mr. William Henry      0       3    male   \n",
       "\n",
       "    sibsp  survived     ticket  \n",
       "0       1         0  A/5 21171  \n",
       "1       1         1   PC 17599  \n",
       "10      1         1    PP 9549  \n",
       "11      0         1     113783  \n",
       "12      0         0  A/5. 2151  "
      ]
     },
     "execution_count": 10,
     "metadata": {},
     "output_type": "execute_result"
    }
   ],
   "source": [
    "df = pd.read_json(jsonObj)\n",
    "df.head()"
   ]
  },
  {
   "cell_type": "markdown",
   "metadata": {},
   "source": [
    "## match the top 5 records from JSON read and actual titanic dataset"
   ]
  },
  {
   "cell_type": "code",
   "execution_count": null,
   "metadata": {},
   "outputs": [],
   "source": []
  },
  {
   "cell_type": "markdown",
   "metadata": {},
   "source": [
    "## 2. read the HTML file as given below\n",
    "http://vincentarelbundock.github.io/Rdatasets/datasets.html"
   ]
  },
  {
   "cell_type": "code",
   "execution_count": 38,
   "metadata": {},
   "outputs": [],
   "source": [
    "htmlDataset = pd.read_html('http://vincentarelbundock.github.io/Rdatasets/datasets.html',header=0)\n",
    "#htmlDataset[1]\n"
   ]
  },
  {
   "cell_type": "markdown",
   "metadata": {},
   "source": [
    "## create a data frame from the above object"
   ]
  },
  {
   "cell_type": "code",
   "execution_count": 40,
   "metadata": {},
   "outputs": [
    {
     "data": {
      "text/html": [
       "<div>\n",
       "<style scoped>\n",
       "    .dataframe tbody tr th:only-of-type {\n",
       "        vertical-align: middle;\n",
       "    }\n",
       "\n",
       "    .dataframe tbody tr th {\n",
       "        vertical-align: top;\n",
       "    }\n",
       "\n",
       "    .dataframe thead th {\n",
       "        text-align: right;\n",
       "    }\n",
       "</style>\n",
       "<table border=\"1\" class=\"dataframe\">\n",
       "  <thead>\n",
       "    <tr style=\"text-align: right;\">\n",
       "      <th></th>\n",
       "      <th>Package</th>\n",
       "      <th>Item</th>\n",
       "      <th>Title</th>\n",
       "      <th>Rows</th>\n",
       "      <th>Cols</th>\n",
       "      <th>CSV</th>\n",
       "      <th>Doc</th>\n",
       "    </tr>\n",
       "  </thead>\n",
       "  <tbody>\n",
       "    <tr>\n",
       "      <th>0</th>\n",
       "      <td>boot</td>\n",
       "      <td>acme</td>\n",
       "      <td>Monthly Excess Returns</td>\n",
       "      <td>60</td>\n",
       "      <td>3</td>\n",
       "      <td>CSV</td>\n",
       "      <td>DOC</td>\n",
       "    </tr>\n",
       "    <tr>\n",
       "      <th>1</th>\n",
       "      <td>boot</td>\n",
       "      <td>aids</td>\n",
       "      <td>Delay in AIDS Reporting in England and Wales</td>\n",
       "      <td>570</td>\n",
       "      <td>6</td>\n",
       "      <td>CSV</td>\n",
       "      <td>DOC</td>\n",
       "    </tr>\n",
       "    <tr>\n",
       "      <th>2</th>\n",
       "      <td>boot</td>\n",
       "      <td>aircondit</td>\n",
       "      <td>Failures of Air-conditioning Equipment</td>\n",
       "      <td>12</td>\n",
       "      <td>1</td>\n",
       "      <td>CSV</td>\n",
       "      <td>DOC</td>\n",
       "    </tr>\n",
       "    <tr>\n",
       "      <th>3</th>\n",
       "      <td>boot</td>\n",
       "      <td>aircondit7</td>\n",
       "      <td>Failures of Air-conditioning Equipment</td>\n",
       "      <td>24</td>\n",
       "      <td>1</td>\n",
       "      <td>CSV</td>\n",
       "      <td>DOC</td>\n",
       "    </tr>\n",
       "    <tr>\n",
       "      <th>4</th>\n",
       "      <td>boot</td>\n",
       "      <td>amis</td>\n",
       "      <td>Car Speeding and Warning Signs</td>\n",
       "      <td>8437</td>\n",
       "      <td>4</td>\n",
       "      <td>CSV</td>\n",
       "      <td>DOC</td>\n",
       "    </tr>\n",
       "    <tr>\n",
       "      <th>5</th>\n",
       "      <td>boot</td>\n",
       "      <td>aml</td>\n",
       "      <td>Remission Times for Acute Myelogenous Leukaemia</td>\n",
       "      <td>23</td>\n",
       "      <td>3</td>\n",
       "      <td>CSV</td>\n",
       "      <td>DOC</td>\n",
       "    </tr>\n",
       "    <tr>\n",
       "      <th>6</th>\n",
       "      <td>boot</td>\n",
       "      <td>beaver</td>\n",
       "      <td>Beaver Body Temperature Data</td>\n",
       "      <td>100</td>\n",
       "      <td>4</td>\n",
       "      <td>CSV</td>\n",
       "      <td>DOC</td>\n",
       "    </tr>\n",
       "    <tr>\n",
       "      <th>7</th>\n",
       "      <td>boot</td>\n",
       "      <td>bigcity</td>\n",
       "      <td>Population of U.S. Cities</td>\n",
       "      <td>49</td>\n",
       "      <td>2</td>\n",
       "      <td>CSV</td>\n",
       "      <td>DOC</td>\n",
       "    </tr>\n",
       "    <tr>\n",
       "      <th>8</th>\n",
       "      <td>boot</td>\n",
       "      <td>brambles</td>\n",
       "      <td>Spatial Location of Bramble Canes</td>\n",
       "      <td>823</td>\n",
       "      <td>3</td>\n",
       "      <td>CSV</td>\n",
       "      <td>DOC</td>\n",
       "    </tr>\n",
       "    <tr>\n",
       "      <th>9</th>\n",
       "      <td>boot</td>\n",
       "      <td>breslow</td>\n",
       "      <td>Smoking Deaths Among Doctors</td>\n",
       "      <td>10</td>\n",
       "      <td>5</td>\n",
       "      <td>CSV</td>\n",
       "      <td>DOC</td>\n",
       "    </tr>\n",
       "  </tbody>\n",
       "</table>\n",
       "</div>"
      ],
      "text/plain": [
       "  Package        Item                                            Title  Rows  \\\n",
       "0    boot        acme                           Monthly Excess Returns    60   \n",
       "1    boot        aids     Delay in AIDS Reporting in England and Wales   570   \n",
       "2    boot   aircondit           Failures of Air-conditioning Equipment    12   \n",
       "3    boot  aircondit7           Failures of Air-conditioning Equipment    24   \n",
       "4    boot        amis                   Car Speeding and Warning Signs  8437   \n",
       "5    boot         aml  Remission Times for Acute Myelogenous Leukaemia    23   \n",
       "6    boot      beaver                     Beaver Body Temperature Data   100   \n",
       "7    boot     bigcity                        Population of U.S. Cities    49   \n",
       "8    boot    brambles                Spatial Location of Bramble Canes   823   \n",
       "9    boot     breslow                     Smoking Deaths Among Doctors    10   \n",
       "\n",
       "   Cols  CSV  Doc  \n",
       "0     3  CSV  DOC  \n",
       "1     6  CSV  DOC  \n",
       "2     1  CSV  DOC  \n",
       "3     1  CSV  DOC  \n",
       "4     4  CSV  DOC  \n",
       "5     3  CSV  DOC  \n",
       "6     4  CSV  DOC  \n",
       "7     2  CSV  DOC  \n",
       "8     3  CSV  DOC  \n",
       "9     5  CSV  DOC  "
      ]
     },
     "execution_count": 40,
     "metadata": {},
     "output_type": "execute_result"
    }
   ],
   "source": [
    "htmlDf = pd.DataFrame(htmlDataset[1])\n",
    "htmlDf.head(10)"
   ]
  },
  {
   "cell_type": "markdown",
   "metadata": {},
   "source": [
    "## Create URL to JSON file (alternatively this can be a filepath)\n"
   ]
  },
  {
   "cell_type": "code",
   "execution_count": 42,
   "metadata": {},
   "outputs": [
    {
     "data": {
      "text/html": [
       "<div>\n",
       "<style scoped>\n",
       "    .dataframe tbody tr th:only-of-type {\n",
       "        vertical-align: middle;\n",
       "    }\n",
       "\n",
       "    .dataframe tbody tr th {\n",
       "        vertical-align: top;\n",
       "    }\n",
       "\n",
       "    .dataframe thead th {\n",
       "        text-align: right;\n",
       "    }\n",
       "</style>\n",
       "<table border=\"1\" class=\"dataframe\">\n",
       "  <thead>\n",
       "    <tr style=\"text-align: right;\">\n",
       "      <th></th>\n",
       "      <th>category</th>\n",
       "      <th>datetime</th>\n",
       "      <th>integer</th>\n",
       "    </tr>\n",
       "  </thead>\n",
       "  <tbody>\n",
       "    <tr>\n",
       "      <th>0</th>\n",
       "      <td>0</td>\n",
       "      <td>2015-01-01 00:00:00</td>\n",
       "      <td>5</td>\n",
       "    </tr>\n",
       "    <tr>\n",
       "      <th>1</th>\n",
       "      <td>0</td>\n",
       "      <td>2015-01-01 00:00:01</td>\n",
       "      <td>5</td>\n",
       "    </tr>\n",
       "    <tr>\n",
       "      <th>10</th>\n",
       "      <td>0</td>\n",
       "      <td>2015-01-01 00:00:10</td>\n",
       "      <td>5</td>\n",
       "    </tr>\n",
       "    <tr>\n",
       "      <th>11</th>\n",
       "      <td>0</td>\n",
       "      <td>2015-01-01 00:00:11</td>\n",
       "      <td>5</td>\n",
       "    </tr>\n",
       "    <tr>\n",
       "      <th>12</th>\n",
       "      <td>0</td>\n",
       "      <td>2015-01-01 00:00:12</td>\n",
       "      <td>8</td>\n",
       "    </tr>\n",
       "  </tbody>\n",
       "</table>\n",
       "</div>"
      ],
      "text/plain": [
       "    category            datetime  integer\n",
       "0          0 2015-01-01 00:00:00        5\n",
       "1          0 2015-01-01 00:00:01        5\n",
       "10         0 2015-01-01 00:00:10        5\n",
       "11         0 2015-01-01 00:00:11        5\n",
       "12         0 2015-01-01 00:00:12        8"
      ]
     },
     "execution_count": 42,
     "metadata": {},
     "output_type": "execute_result"
    }
   ],
   "source": [
    "url = 'https://raw.githubusercontent.com/chrisalbon/simulated_datasets/master/data.json'\n",
    "jdf = pd.read_json(url,orient='columns')\n",
    "jdf.head()"
   ]
  },
  {
   "cell_type": "code",
   "execution_count": null,
   "metadata": {},
   "outputs": [],
   "source": []
  }
 ],
 "metadata": {
  "kernelspec": {
   "display_name": "Python 3",
   "language": "python",
   "name": "python3"
  },
  "language_info": {
   "codemirror_mode": {
    "name": "ipython",
    "version": 3
   },
   "file_extension": ".py",
   "mimetype": "text/x-python",
   "name": "python",
   "nbconvert_exporter": "python",
   "pygments_lexer": "ipython3",
   "version": "3.6.4"
  }
 },
 "nbformat": 4,
 "nbformat_minor": 2
}
